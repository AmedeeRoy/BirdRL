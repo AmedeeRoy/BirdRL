{
 "cells": [
  {
   "cell_type": "markdown",
   "metadata": {},
   "source": [
    "# Introduction to Reinforcement Learning for Seabird Ecology\n",
    "---\n",
    "Amédée Roy\n",
    "MARBEC, Univ Montpellier, CNRS, IFREMER, IRD, Sète, France"
   ]
  },
  {
   "cell_type": "code",
   "execution_count": 1,
   "metadata": {},
   "outputs": [
    {
     "name": "stdout",
     "output_type": "stream",
     "text": [
      "pygame 1.9.6\n",
      "Hello from the pygame community. https://www.pygame.org/contribute.html\n",
      "couldn't import doomish\n",
      "Couldn't import doom\n"
     ]
    }
   ],
   "source": [
    "import pygame\n",
    "from pygame.constants import K_RIGHT, K_LEFT, K_UP, K_DOWN, K_SPACE, QUIT, KEYDOWN\n",
    "from ple.games import base\n",
    "import numpy as np\n",
    "import sys\n",
    "\n",
    "class Map(pygame.sprite.Sprite):\n",
    "    def __init__(self, lon, lat, SCREEN_WIDTH, SCREEN_HEIGHT):\n",
    "        self.gridLon = lon\n",
    "        self.gridLat = lat\n",
    "        self.gridSize = (len(lon), len(lat))\n",
    "        self.tileMap = None\n",
    "            \n",
    "        pygame.sprite.Sprite.__init__(self)\n",
    "        \n",
    "        #useful game dimensions\n",
    "        self.MAPWIDTH = len(lon)\n",
    "        self.MAPHEIGHT = len(lat)\n",
    "        self.TILESIZE  = min(SCREEN_WIDTH/self.MAPWIDTH, SCREEN_HEIGHT/self.MAPHEIGHT)\n",
    "\n",
    "    \n",
    "    def draw(self, screen):\n",
    "        #constants representing the different resources\n",
    "        ISLAND  = 0\n",
    "        WATER = 1\n",
    "        FISH = 2\n",
    "\n",
    "        # a dictionary linking resources to colours\n",
    "        textures =   {\n",
    "                        ISLAND  :  pygame.image.load('island.png'),\n",
    "                        WATER :  pygame.image.load('water.png'),\n",
    "                        FISH : pygame.image.load('fish.png')\n",
    "                      }\n",
    "        #loop through each row\n",
    "        for row in range(self.MAPHEIGHT):\n",
    "            #loop through each column in the row\n",
    "            for column in range(self.MAPWIDTH):\n",
    "\n",
    "                #draw an image for the resource, in the correct position\n",
    "                screen.blit(textures[self.tileMap[row][column]], (column*self.TILESIZE,row*self.TILESIZE))\n",
    "\n",
    "    \n",
    "    def computeTileMap(self, island):\n",
    "        self.tileMap = None\n",
    "        #constants representing the different resources\n",
    "        ISLAND  = 0\n",
    "        WATER = 1    \n",
    "        tilemap = [[WATER for i in range(self.gridSize[0])] for i in range(self.gridSize[1])]\n",
    "        for i in island:\n",
    "            tilemap[self.getIdx(i)[1]][self.getIdx(i)[0]] = ISLAND\n",
    "        for col in range(np.int(self.gridSize[0]/2), self.gridSize[0]):\n",
    "            for row in range(np.int(self.gridSize[1]/2)):\n",
    "                tilemap[row][col] = np.random.choice([2]*1+[1]*20)\n",
    "        self.tileMap = tilemap\n",
    "    \n",
    "    def getIdx(self, pos):\n",
    "        return (self.gridLon.index(pos[0]), self.gridLat.index(pos[1]))\n",
    "    \n",
    "\n",
    "class Bird(pygame.sprite.Sprite):\n",
    "    def __init__(self, pos):\n",
    "        self.position = np.array(pos)\n",
    "        self.nbMove = 0\n",
    "        self.nbDive = 0\n",
    "        self.nbFish = 0\n",
    "        self.catch = False\n",
    "    \n",
    "    def getLife(self):\n",
    "        return 100 + self.nbMove*-1 + self.nbDive*-25\n",
    "    \n",
    "    def moveRight(self, Map):\n",
    "        if self.position[0] < max(Map.gridLon):\n",
    "            self.position[0] += 1\n",
    "        self.nbMove += 1\n",
    "    def moveLeft(self, Map):\n",
    "        if self.position[0] > min(Map.gridLon):\n",
    "            self.position[0] -= 1\n",
    "        self.nbMove += 1\n",
    "    def moveUp(self, Map):\n",
    "        if self.position[1] < max(Map.gridLat):\n",
    "            self.position[1] += 1\n",
    "        self.nbMove += 1\n",
    "    def moveDown(self, Map):\n",
    "        if self.position[1] > min(Map.gridLat):\n",
    "            self.position[1] -= 1\n",
    "        self.nbMove += 1\n",
    "    \n",
    "    def dive(self, Map):\n",
    "        self.nbDive += 1\n",
    "        if Map.tileMap[Map.getIdx(self.position)[1]][Map.getIdx(self.position)[0]] == 2:\n",
    "            Map.tileMap[Map.getIdx(self.position)[1]][Map.getIdx(self.position)[0]] = 1\n",
    "            self.nbFish += 1\n",
    "            self.catch = True\n",
    "    \n",
    "    def draw(self, Map, screen):\n",
    "        WHITE = (255, 255, 255)\n",
    "        BLACK = (0, 0, 0)\n",
    "        RED = (255, 0, 0)\n",
    "        PURPLE = (50, 50, 50)\n",
    "        \n",
    "        #display the player at the correct position \n",
    "        PLAYER = pygame.image.load('bird.png').convert()\n",
    "        PLAYER.set_alpha(1000)\n",
    "        PLAYER.set_colorkey(WHITE)\n",
    "        screen.blit(PLAYER,(Map.getIdx(self.position)[0]*Map.TILESIZE, Map.getIdx(self.position)[1]*Map.TILESIZE))\n",
    "        \n",
    "        #display score\n",
    "        LEGEND = pygame.image.load('fish_legend.png')\n",
    "        posLEGEND = ((Map.gridSize[0] + 1)*Map.TILESIZE, Map.TILESIZE)\n",
    "        screen.blit(LEGEND,posLEGEND)\n",
    "        TITLE = pygame.font.Font('FreeSansBold.ttf', 18)\n",
    "        \n",
    "        textObj = TITLE.render(str(self.nbFish), True, WHITE, BLACK)\n",
    "        posTITLE = ((Map.gridSize[0] + 1)*Map.TILESIZE, 2 * Map.TILESIZE)\n",
    "        screen.blit(textObj,posTITLE)\n",
    "        \n",
    "        #display health bar\n",
    "        #(left, top, width, height)\n",
    "        pygame.draw.rect(screen, PURPLE, (733.4, 200, 50, 200))\n",
    "        pygame.draw.rect(screen, RED, (733.4, 400-2*self.getLife(), 50, 2*self.getLife()))\n",
    "        \n",
    "        textObj = TITLE.render(\"Energy\", True, WHITE, BLACK)\n",
    "        posTITLE = (733.4, 170)\n",
    "        screen.blit(textObj,posTITLE)\n",
    "\n",
    "class RLBird(base.PyGameWrapper):\n",
    "\n",
    "    def __init__(self, width, height, lon, lat, init_bird_position, init_island_position):\n",
    "\n",
    "        actions = {\n",
    "            \"left\": K_LEFT,\n",
    "            \"right\": K_RIGHT,\n",
    "            \"down\": K_DOWN,\n",
    "            \"up\": K_UP,\n",
    "            \"dive\": K_SPACE\n",
    "        }\n",
    "\n",
    "        base.PyGameWrapper.__init__(self, width, height, actions=actions)\n",
    "\n",
    "        # Drawing specific\n",
    "        self.width = width\n",
    "        self.height = height\n",
    "        \n",
    "        # Game specific      \n",
    "        self.lon = lon\n",
    "        self.lat = lat\n",
    "        self.init_bird_position = init_bird_position\n",
    "        self.init_island_position = init_island_position\n",
    "                \n",
    "        \n",
    "    def _handle_player_events(self):\n",
    "        for event in pygame.event.get():\n",
    "            if event.type == QUIT:\n",
    "                #and the game and close the window\n",
    "                pygame.quit()\n",
    "                sys.exit()\n",
    "            #if a key is pressed\n",
    "            elif event.type == KEYDOWN:\n",
    "                #self.map.updateTileMap()\n",
    "                #if the right arrow is pressed\n",
    "                if (event.key == K_RIGHT):\n",
    "                    self.bird.moveRight(self.map)\n",
    "                if (event.key == K_LEFT):\n",
    "                    self.bird.moveLeft(self.map)\n",
    "                if (event.key == K_UP):\n",
    "                    self.bird.moveUp(self.map)\n",
    "                if (event.key == K_DOWN):\n",
    "                    self.bird.moveDown(self.map)\n",
    "                if (event.key == K_SPACE):\n",
    "                    self.bird.dive(self.map)\n",
    "                    if self.bird.catch:\n",
    "                        self.score += rewards[\"win\"]\n",
    "                    else:\n",
    "                        self.score += rewards[\"loss\"]\n",
    "        \n",
    "                self.bird.catch = False\n",
    "                \n",
    "\n",
    "    def init(self):\n",
    "              \n",
    "        # Set Map\n",
    "        m = Map(self.lon, self.lat, self.width, self.height)\n",
    "        m.computeTileMap(self.init_island_position)\n",
    "        #m.updateTileMap()\n",
    "        self.map = m\n",
    "        \n",
    "        # Set Bird\n",
    "        self.bird = Bird(self.init_bird_position)\n",
    "        \n",
    "        # Set Score\n",
    "        self.score = 0\n",
    "        \n",
    "    def getGameState(self):\n",
    "        state = {\n",
    "            \"bird_idx\": self.map.getIdx(self.bird.position),\n",
    "            \"map\": np.array(self.map.tileMap)\n",
    "        }\n",
    "        return state\n",
    "\n",
    "    def getScore(self):\n",
    "        return self.score\n",
    "\n",
    "    def game_over(self):\n",
    "        return self.bird.getLife() <= 0\n",
    "\n",
    "    def step(self, dt):\n",
    "        \n",
    "        # -------------- update game\n",
    "        self._handle_player_events()\n",
    "        \n",
    "        # -------------- update drawing\n",
    "        self.map.draw(self.screen)\n",
    "        self.bird.draw(self.map, self.screen)"
   ]
  },
  {
   "cell_type": "code",
   "execution_count": 2,
   "metadata": {},
   "outputs": [],
   "source": [
    "import pygame\n",
    "from pygame.constants import *\n",
    "from ple import PLE\n",
    "#from rlbird import RLBird\n",
    "import numpy as np\n",
    "\n",
    "lon = [i for i in range(-40, -20)]\n",
    "lat = [i for i in range(-10, 10)]\n",
    "lat.reverse()\n",
    "\n",
    "# List of coordinates for islands\n",
    "island = [(-38, -9), (-37, -9), (-36, -8)]\n",
    "birdStart = [-36, -8]\n",
    "\n",
    "SCREEN_WIDTH = 800\n",
    "SCREEN_HEIGHT = 700\n",
    "\n",
    "rewards = {\n",
    "    \"positive\": 0.0,\n",
    "    \"negative\": 0.0,\n",
    "    \"tick\": 0.0,\n",
    "    \"loss\": -1.0,\n",
    "    \"win\": 1.0\n",
    "}\n"
   ]
  },
  {
   "cell_type": "markdown",
   "metadata": {},
   "source": [
    "#  Classic rate maximization for an individual (70s-80s)\n",
    "\n",
    "## Model\n",
    "*Tamm 1988 - Importance of energy costs in central place foraging by hummingbirds*\n",
    "\n",
    "Basic CPF model:\n",
    "> $E_{net} = E_{gain} - E_{cost}$\n",
    ">\n",
    ">  Energy gain : $E_{gain}  = L(T_p) = T_p rc$\n",
    "> * $T_p$ time spend foraging\n",
    "> * $r$ rate of intake (kg/s)\n",
    "> * $c$ constant convert mass into unit of Energy (kJ/g)\n",
    ">\n",
    "> Energy cost : $E_{gain}  = E_a(T_T) + E_p(T_p) + E_b(T_T)$\n",
    ">\n",
    "> $E_p = T_p C_p ( m + \\frac{T_p}{2}r)$ (while foraging)\n",
    ">\n",
    "> $E_{a}(T_T) = T_T C_T m $ (while traveling way)\n",
    ">\n",
    "> $E_{b}(T_T) = T_T C_T (m + T_p r) $ (while traveling back)\n",
    ">\n",
    "> * $m$ mass of the bird at the departure\n",
    "> * $C_T$ rate of energy expenditure travelling (kJ/h/g)\n",
    "> * $C_p$ rate of energy expenditure foraging (kJ/h/g)\n",
    "\n",
    "## Optimization\n",
    "Rate maximization while foraging\n",
    "> $R_{net} = \\frac{E_{gain} - E_{cost}}{2 T_T + T_p}$\n",
    ">\n",
    "> $R_{net} = \\frac{ \\frac{1}{2} rC_pT_p^2 + (mC_p + rT_TC_T - rc)T_p + 2T_TmC_T}{2T_t + T_p} = \\frac{AT_p² + BT_p + C}{2T_T + T_p} $\n",
    ">\n",
    "> $\\frac{dR_{net}}{dT_p} = \\frac{(2AT_p + B)(2T_T + T_p) - (AT_p^2 + B T_p + C)}{(2T_T + T_p)^2} = 0$\n",
    ">\n",
    ">\n",
    "> $AT_p^2 + 4AT_TT_p + 2BT_T-C = 0$\n",
    ">\n",
    "> $T_p^* = \\frac{-4AT_T + \\sqrt{16A^2T_T^2 - 4A(2BT_T -C)}}{2A} = \\sqrt{4T_T^2 - \\frac{2BT_T-C}{A}} - 2T_T$\n",
    ">\n",
    "> $T_p^* = 2(\\sqrt{\\frac{T_T}{rC_p}( T_T r (C_p - C _T)  - m (C_p - C_T)  -rc )} - T_T)$\n",
    ">\n",
    "\n",
    "\n"
   ]
  },
  {
   "cell_type": "code",
   "execution_count": 3,
   "metadata": {},
   "outputs": [],
   "source": [
    "import random\n",
    "import matplotlib.pyplot as plt\n",
    "random.seed(1)\n",
    "\n",
    "# init game\n",
    "pygame.init()\n",
    "game = RLBird(width=SCREEN_WIDTH, height=SCREEN_HEIGHT, lon = lon, lat = lat, init_bird_position = birdStart, init_island_position = island)\n",
    "game.init()"
   ]
  },
  {
   "cell_type": "code",
   "execution_count": 4,
   "metadata": {},
   "outputs": [],
   "source": [
    "## Parameters\n",
    "Cp = 0.348      # kJ/g/h\n",
    "Ct = 0.226      # kJ/g/h\n",
    "m = 1000        # g\n",
    "c = 5.26        # kJ/g"
   ]
  },
  {
   "cell_type": "code",
   "execution_count": 5,
   "metadata": {
    "scrolled": false
   },
   "outputs": [
    {
     "data": {
      "text/plain": [
       "<matplotlib.collections.PathCollection at 0x7f9a3064cb90>"
      ]
     },
     "execution_count": 5,
     "metadata": {},
     "output_type": "execute_result"
    },
    {
     "data": {
      "image/png": "[encoded data removed]",
      "text/plain": [
       "<Figure size 432x288 with 1 Axes>"
      ]
     },
     "metadata": {
      "needs_background": "light"
     },
     "output_type": "display_data"
    }
   ],
   "source": [
    "# test \n",
    "Tt = 1         # h\n",
    "r = 5e3       # g/h\n",
    "\n",
    "Tp = np.array( [ i for i in range(0, 10)] )         # h\n",
    "\n",
    "\n",
    "\n",
    "Rnet = -(1/2 * r * Cp * Tp**2 + (m*Cp + r*Tt*Ct - r*c) * Tp + 2*Tt*m*Ct) / (2*Tt + Tp)\n",
    "Tp_star = 2 * (np.sqrt(-Tt/r/Cp * (Tt * r * (Cp - Ct) - m * (Cp - Ct) - r*c)) - Tt)\n",
    "\n",
    "\n",
    "plt.plot(Tp, Rnet)\n",
    "plt.scatter(Tp_star, np.max(Rnet))"
   ]
  },
  {
   "cell_type": "code",
   "execution_count": 6,
   "metadata": {},
   "outputs": [
    {
     "data": {
      "image/png": "[encoded data removed]",
      "text/plain": [
       "<Figure size 432x288 with 1 Axes>"
      ]
     },
     "metadata": {
      "needs_background": "light"
     },
     "output_type": "display_data"
    },
    {
     "data": {
      "image/png": "[encoded data removed]",
      "text/plain": [
       "<Figure size 432x288 with 2 Axes>"
      ]
     },
     "metadata": {
      "needs_background": "light"
     },
     "output_type": "display_data"
    },
    {
     "data": {
      "image/png": "[encoded data removed]",
      "text/plain": [
       "<Figure size 432x288 with 1 Axes>"
      ]
     },
     "metadata": {
      "needs_background": "light"
     },
     "output_type": "display_data"
    }
   ],
   "source": [
    "# Map\n",
    "plt.imshow(np.array(game.map.tileMap));\n",
    "plt.title('Map')\n",
    "plt.show()\n",
    "\n",
    "# Tt\n",
    "LON = [[game.map.gridLon[i] - birdStart[0] for i in range(game.map.gridSize[0])] for j in range(game.map.gridSize[1])]\n",
    "LAT = [[game.map.gridLat[j] - birdStart[1] for i in range(game.map.gridSize[0])] for j in range(game.map.gridSize[1])]\n",
    "Tt = np.sqrt(np.array(LON)**2 + np.array(LAT)**2)\n",
    "Tt = Tt/10\n",
    "plt.imshow(Tt);\n",
    "plt.title('Distance to colony')\n",
    "plt.colorbar()\n",
    "plt.show()\n",
    "\n",
    "# r\n",
    "r = (np.array(game.map.tileMap) == 2) * 5e3  #g/h\n",
    "plt.imshow(r);\n",
    "plt.title('Rate of intake')\n",
    "plt.show()\n"
   ]
  },
  {
   "cell_type": "code",
   "execution_count": 7,
   "metadata": {},
   "outputs": [
    {
     "name": "stderr",
     "output_type": "stream",
     "text": [
      "/home/amdroy/anaconda3/lib/python3.7/site-packages/ipykernel_launcher.py:1: RuntimeWarning: divide by zero encountered in true_divide\n",
      "  \"\"\"Entry point for launching an IPython kernel.\n",
      "/home/amdroy/anaconda3/lib/python3.7/site-packages/ipykernel_launcher.py:1: RuntimeWarning: invalid value encountered in true_divide\n",
      "  \"\"\"Entry point for launching an IPython kernel.\n"
     ]
    },
    {
     "data": {
      "image/png": "[encoded data removed]",
      "text/plain": [
       "<Figure size 432x288 with 2 Axes>"
      ]
     },
     "metadata": {
      "needs_background": "light"
     },
     "output_type": "display_data"
    }
   ],
   "source": [
    "Tp = 2 * (np.sqrt(-Tt/r/Cp * (Tt * r * (Cp - Ct) - m * (Cp - Ct) - r*c)) - Tt)\n",
    "\n",
    "plt.imshow(Tp);\n",
    "plt.colorbar()\n",
    "plt.show()"
   ]
  },
  {
   "cell_type": "markdown",
   "metadata": {},
   "source": [
    "## Stochastic dynamic programming\n",
    "\n",
    "A dynamic, state-variable approach to the analysis of behavioural decisions has been proposed through Markov decision process: **state-dependent decision problems**\n",
    "\n",
    "**Markov decision processes (MDPs)** are discrete-time versions of optimal control problems and provide a mathematical framework for studying sequential, state-dependent decision problems. In these decision problems, time is broken up into discrete steps and outcomes are partly random and partly under the control of the decision maker. An MDP has four components:\n",
    "1. States: A set of possible, relevant configurations of a system (~ physiological state of the organism + environment)\n",
    "2. Actions: A set of actions available to the\n",
    "agent within its environment (~ organisms decisions)\n",
    "3. Transition function: A function that probabilistically assigns the next\n",
    "state based on the current state and chosen action (~ dynamics inbetween agent and environment)\n",
    "4. Reward function: A function that assigns an immediate reward based\n",
    "on the current state and chosen action (~ measure of Darwinian fitness)\n",
    "\n",
    "It provides the means to predict growth, maturation, and behavior as a function of physiological state and environmental conditions. The essence of the method is to work backwards in order to generate state-dependent decisions and then to predict forwards using these decisions and Monte Carlo simulation.\n",
    "\n",
    "> Let $X_t$ representing the animal energy reserves\n",
    "> $X_{t+1} = X_t - \\alpha + Z_t$ (decrease by daily metabolic expenditure, increase by food consumption)\n",
    "> Energy reserves are bounded (max capacity and min survival)\n",
    "> Animal knowe its environment: habitat $H_i$, energetic value of food items $Y_i$, probability of discovering food item $\\lambda_i$\n",
    ">\n",
    "> **Stochastic dynamic programming equation:**\n",
    "> $J(x, t, T)$ is the *maximal* probability of survival from day $t$ to $T$\n",
    "> $J(x, t, T) = \\max(P_i(x,t,T))  , x >0$\n",
    "> where $P_i(x,t,T) = (1-\\lambda_i) J(x-\\alpha, t+1, T) + \\lambda_i J(x-\\alpha + Y_i, t+1, T)$\n",
    ">\n",
    "> If the values of the model parameters are known, then J can be found by an iterative process called backward induction\n",
    ">\n",
    "> **Illustration of backward induction:**\n",
    "> We fix parameters for habitat and associated properties and for all state x (energy reserve)\n",
    "> Start at the end: $J(x, T, T) = 1$ and compute $J(x, T-1, T)$ and so on\n"
   ]
  },
  {
   "cell_type": "code",
   "execution_count": 61,
   "metadata": {},
   "outputs": [],
   "source": [
    "# nb of habitat\n",
    "nb = 3\n",
    "\n",
    "# probability of death due to predation\n",
    "b1 = 0\n",
    "b2 = 0.01\n",
    "b3 = 0.05\n",
    "b = np.array([b1, b2, b3])\n",
    "\n",
    "# probability of discovering food items\n",
    "l1 = 0.4\n",
    "l2 = 0.6\n",
    "l3 = 0.8\n",
    "l = np.array([l1, l2, l3])\n",
    "\n",
    "# energetic value of food items\n",
    "Y1 = 2\n",
    "Y2 = 2\n",
    "Y3 = 2\n",
    "Y = np.array([Y1, Y2, Y3])\n",
    "\n",
    "# daily metabolic expenditure\n",
    "a = 1 \n",
    "\n",
    "# energy capacity 0<x<20\n",
    "cap = 20"
   ]
  },
  {
   "cell_type": "code",
   "execution_count": 71,
   "metadata": {},
   "outputs": [
    {
     "data": {
      "text/plain": [
       "[[0.4, 0.594, 0.76], [1.0, 0.99, 0.95], [1.0, 0.99, 0.95], [1.0, 0.99, 0.95]]"
      ]
     },
     "execution_count": 71,
     "metadata": {},
     "output_type": "execute_result"
    }
   ],
   "source": [
    "# J(x,t,T) :  denote the probability of survival from day t until day T with reserve x\n",
    "\n",
    "def Jend(x):\n",
    "    if x>0:\n",
    "        j = 1\n",
    "    else:\n",
    "        j = 0\n",
    "    return j\n",
    "\n",
    "    \n",
    "# Start\n",
    "J = [Jend(x) for x in range(4)]\n",
    "\n",
    "\n",
    "# Backward induction\n",
    "Jfood = np.array([Jend(x-a) for x in range(1,4+1)])\n",
    "\n",
    "minCap = lambda x: min(x, cap)\n",
    "x =  map(minCap, x-a+Y)\n",
    "x = np.array(list(x))\n",
    "Jnofood = np.array([Jend(x) for x in range(1,4+1)])\n",
    "\n",
    "P = [0 for k in range(0,4)]\n",
    "for k in range(0,4):\n",
    "    P[k] = list(((1-b)*(l*Jnofood[k] + (1-l)*Jfood[k])))\n",
    "\n",
    "P"
   ]
  },
  {
   "cell_type": "code",
   "execution_count": 60,
   "metadata": {},
   "outputs": [
    {
     "data": {
      "text/plain": [
       "[0, 0.01, 0.05]"
      ]
     },
     "execution_count": 60,
     "metadata": {},
     "output_type": "execute_result"
    }
   ],
   "source": [
    "b"
   ]
  },
  {
   "cell_type": "code",
   "execution_count": 70,
   "metadata": {},
   "outputs": [
    {
     "data": {
      "text/plain": [
       "[[0.4, 0.594, 0.76], [1.0, 0.99, 0.95], [1.0, 0.99, 0.95], [1.0, 0.99, 0.95]]"
      ]
     },
     "execution_count": 70,
     "metadata": {},
     "output_type": "execute_result"
    }
   ],
   "source": [
    "P"
   ]
  }
 ],
 "metadata": {
  "kernelspec": {
   "display_name": "Python 3",
   "language": "python",
   "name": "python3"
  },
  "language_info": {
   "codemirror_mode": {
    "name": "ipython",
    "version": 3
   },
   "file_extension": ".py",
   "mimetype": "text/x-python",
   "name": "python",
   "nbconvert_exporter": "python",
   "pygments_lexer": "ipython3",
   "version": "3.7.4"
  }
 },
 "nbformat": 4,
 "nbformat_minor": 2
}
