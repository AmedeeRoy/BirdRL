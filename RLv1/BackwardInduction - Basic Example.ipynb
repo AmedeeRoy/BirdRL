{
 "cells": [
  {
   "cell_type": "markdown",
   "metadata": {},
   "source": [
    "# Dynamic models in behavioural and evolutionary ecology\n",
    "Alasdair Houston, 1988\n",
    "\n",
    "\n",
    "## Code for backward induction illustration"
   ]
  },
  {
   "cell_type": "code",
   "execution_count": 1,
   "metadata": {},
   "outputs": [],
   "source": [
    "import mdptoolbox\n",
    "import pandas as pd\n",
    "import numpy as np\n",
    "\n",
    "S = 21\n",
    "N = 3\n",
    "\n",
    "# probability of death due to predation\n",
    "b = [0, 0.01, 0.05]\n",
    "\n",
    "# probability of discovering food items\n",
    "l = [0.4, 0.6, 0.8]\n",
    "\n",
    "# Transition Probabilities\n",
    "P = []\n",
    "for i in range(len(b)):\n",
    "    H = np.zeros((S,S))\n",
    "    rng = np.arange(1, S-1)\n",
    "    H[0,0]= 1\n",
    "    H[rng, rng+1] = (1-b[i])*l[i]\n",
    "    H[rng, rng-1] = (1-b[i])*(1-l[i])\n",
    "    H[1:,0] += b[i]\n",
    "    H[S-1, S-1] = (1-b[i])*l[i]\n",
    "    H[S-1, S-2] = (1-b[i])*(1-l[i])\n",
    "    P.append(H)\n",
    "        \n",
    "# Rewards\n",
    "R = np.zeros((S,N))\n",
    "\n",
    "# Terminal Reward\n",
    "h = np.array([0] + [1 for i in range(20)])"
   ]
  },
  {
   "cell_type": "code",
   "execution_count": 2,
   "metadata": {},
   "outputs": [
    {
     "name": "stdout",
     "output_type": "stream",
     "text": [
      "WARNING: check conditions of convergence. With no discount, convergence can not be assumed.\n",
      "[[0.         0.         0.         0.         0.        ]\n",
      " [0.687344   0.687344   0.76       0.76       1.        ]\n",
      " [0.85422358 0.9044     0.9044     1.         1.        ]\n",
      " [0.9521424  0.9521424  1.         1.         1.        ]\n",
      " [0.97128544 1.         1.         1.         1.        ]\n",
      " [1.         1.         1.         1.         1.        ]\n",
      " [1.         1.         1.         1.         1.        ]\n",
      " [1.         1.         1.         1.         1.        ]\n",
      " [1.         1.         1.         1.         1.        ]\n",
      " [1.         1.         1.         1.         1.        ]\n",
      " [1.         1.         1.         1.         1.        ]\n",
      " [1.         1.         1.         1.         1.        ]\n",
      " [1.         1.         1.         1.         1.        ]\n",
      " [1.         1.         1.         1.         1.        ]\n",
      " [1.         1.         1.         1.         1.        ]\n",
      " [1.         1.         1.         1.         1.        ]\n",
      " [1.         1.         1.         1.         1.        ]\n",
      " [1.         1.         1.         1.         1.        ]\n",
      " [1.         1.         1.         1.         1.        ]\n",
      " [1.         1.         1.         1.         1.        ]\n",
      " [1.         1.         1.         1.         1.        ]]\n",
      "[[0 0 0 0]\n",
      " [2 2 2 2]\n",
      " [2 2 2 0]\n",
      " [1 1 0 0]\n",
      " [0 0 0 0]\n",
      " [0 0 0 0]\n",
      " [0 0 0 0]\n",
      " [0 0 0 0]\n",
      " [0 0 0 0]\n",
      " [0 0 0 0]\n",
      " [0 0 0 0]\n",
      " [0 0 0 0]\n",
      " [0 0 0 0]\n",
      " [0 0 0 0]\n",
      " [0 0 0 0]\n",
      " [0 0 0 0]\n",
      " [0 0 0 0]\n",
      " [0 0 0 0]\n",
      " [0 0 0 0]\n",
      " [0 0 0 0]\n",
      " [0 0 0 0]]\n"
     ]
    }
   ],
   "source": [
    "backWard = mdptoolbox.mdp.FiniteHorizon(P, R, 1, 4, h = h)\n",
    "backWard.run()\n",
    "\n",
    "print(backWard.V)\n",
    "print(backWard.policy)"
   ]
  },
  {
   "cell_type": "code",
   "execution_count": null,
   "metadata": {},
   "outputs": [],
   "source": []
  }
 ],
 "metadata": {
  "kernelspec": {
   "display_name": "Python 3",
   "language": "python",
   "name": "python3"
  },
  "language_info": {
   "codemirror_mode": {
    "name": "ipython",
    "version": 3
   },
   "file_extension": ".py",
   "mimetype": "text/x-python",
   "name": "python",
   "nbconvert_exporter": "python",
   "pygments_lexer": "ipython3",
   "version": "3.7.4"
  }
 },
 "nbformat": 4,
 "nbformat_minor": 2
}
