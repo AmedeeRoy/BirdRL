{
 "cells": [
  {
   "cell_type": "markdown",
   "metadata": {},
   "source": [
    "# Time cost vs game complexity"
   ]
  },
  {
   "cell_type": "code",
   "execution_count": 1,
   "metadata": {},
   "outputs": [
    {
     "name": "stdout",
     "output_type": "stream",
     "text": [
      "pygame 1.9.6\n",
      "Hello from the pygame community. https://www.pygame.org/contribute.html\n",
      "couldn't import doomish\n",
      "Couldn't import doom\n"
     ]
    }
   ],
   "source": [
    "import timeit\n",
    "from rlbirdv1 import *\n",
    "import matplotlib.pyplot as plt\n",
    "import mdptoolbox\n",
    "\n",
    "x = [i for i in range(3)]\n",
    "y = [i for i in range(3)]\n",
    "y.reverse()\n",
    "\n",
    "# List of coordinates for islands\n",
    "island = [(0, 0)]\n",
    "birdStart = (0, 0)\n",
    "\n",
    "TILESIZE = 40\n",
    "SCREEN_WIDTH = TILESIZE*(len(x)+3)\n",
    "SCREEN_HEIGHT = TILESIZE * len(y)\n",
    "\n",
    "reward = {'win' : 1000,\n",
    "         'lose' : -1000}\n",
    "\n",
    "\n",
    "N = 20"
   ]
  },
  {
   "cell_type": "code",
   "execution_count": 2,
   "metadata": {},
   "outputs": [],
   "source": [
    "nrj = [1, 5, 10, 50, 100]\n",
    "\n",
    "nbStates =  np.zeros(len(nrj))\n",
    "TT = np.zeros(len(nrj))\n",
    "\n",
    "i = 0\n",
    "for n in nrj:\n",
    "    \n",
    "    # Create Game\n",
    "    time_start = timeit.default_timer()\n",
    "    game = RLBird(width = SCREEN_WIDTH, height = SCREEN_HEIGHT, x = x, y = y,\\\n",
    "              init_bird_position = birdStart, island_position = island, \\\n",
    "              energyMax = n, catchMax = 2, costMove = -2, costDive = -3, factorFishFly = 0.25,\\\n",
    "              nbStep = N, reward = reward)\n",
    "    \n",
    "    # Get List of States\n",
    "    game.init()\n",
    "    time_states = timeit.default_timer()\n",
    "        \n",
    "    # Get Model\n",
    "    P = game.getTransitionProbabilities()\n",
    "    R = game.getRewardMatrix()\n",
    "    h = game.getTerminalRewardMatrix()\n",
    "    time_model = timeit.default_timer()\n",
    "    \n",
    "    # Compute Backward Induction\n",
    "    backWard = mdptoolbox.mdp.FiniteHorizon(P, R, 0.99, N, h = h)\n",
    "    backWard.run()\n",
    "    time_backward = timeit.default_timer()\n",
    "    \n",
    "    nbStates[i] = game.listStates.size\n",
    "    TT[i] = time_backward - time_start\n",
    "    i += 1"
   ]
  },
  {
   "cell_type": "code",
   "execution_count": 3,
   "metadata": {},
   "outputs": [
    {
     "data": {
      "image/png": "[encoded data removed]",
      "text/plain": [
       "<Figure size 432x288 with 1 Axes>"
      ]
     },
     "metadata": {
      "needs_background": "light"
     },
     "output_type": "display_data"
    }
   ],
   "source": [
    "plt.plot(nbStates, TT)\n",
    "plt.show()"
   ]
  }
 ],
 "metadata": {
  "kernelspec": {
   "display_name": "Python 3",
   "language": "python",
   "name": "python3"
  },
  "language_info": {
   "codemirror_mode": {
    "name": "ipython",
    "version": 3
   },
   "file_extension": ".py",
   "mimetype": "text/x-python",
   "name": "python",
   "nbconvert_exporter": "python",
   "pygments_lexer": "ipython3",
   "version": "3.7.4"
  }
 },
 "nbformat": 4,
 "nbformat_minor": 2
}
