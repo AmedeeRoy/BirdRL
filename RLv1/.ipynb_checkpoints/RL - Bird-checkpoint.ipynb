{
 "cells": [
  {
   "cell_type": "code",
   "execution_count": null,
   "metadata": {},
   "outputs": [],
   "source": [
    "from rlbirdv1 import *\n",
    "from ple import PLE\n",
    "from IPython.display import Image\n",
    "import imageio\n",
    "import mdptoolbox\n",
    "\n",
    "x = [i for i in range(3)]\n",
    "y = [i for i in range(3)]\n",
    "y.reverse()\n",
    "\n",
    "# List of coordinates for islands\n",
    "island = [(0, 0)]\n",
    "birdStart = (0, 0)\n",
    "\n",
    "TILESIZE = 40\n",
    "SCREEN_WIDTH = TILESIZE*(len(x)+3)\n",
    "SCREEN_HEIGHT = TILESIZE * len(y)\n",
    "\n",
    "reward = {'win' : 1,\n",
    "         'lose' : 0}\n",
    "\n",
    "listAction = [K_LEFT, K_RIGHT, K_DOWN, K_UP, K_s, K_d]\n",
    "\n",
    "N = 20\n",
    "\n",
    "# run.py\n",
    "pygame.init()\n",
    "game = RLBird(width = SCREEN_WIDTH, height = SCREEN_HEIGHT, x = x, y = y,\\\n",
    "              init_bird_position = birdStart, island_position = island, \\\n",
    "              energyMax = 10, catchMax = 2, costMove = -1, costDive = -1, gainFish = 2, factorFishFly = 0.75,\\\n",
    "              nbStep = N, reward = reward)\n",
    "game.init()\n",
    "saveFishMap = game.map.fishMap.copy()"
   ]
  },
  {
   "cell_type": "markdown",
   "metadata": {},
   "source": [
    "### Q-Learning "
   ]
  },
  {
   "cell_type": "code",
   "execution_count": null,
   "metadata": {},
   "outputs": [],
   "source": [
    "# Epsilon\n",
    "INITIAL_EXPLORATION = 2000\n",
    "EXPLORATION_STEPS = 8000\n",
    "INITIAL_EPSILON = 1\n",
    "FINAL_EPSILON = 1e-3\n",
    "\n",
    "# Constants\n",
    "GAMMA = 0.99\n",
    "ALPHA = 0.001\n",
    "NUMBER_GAMES = 10000\n",
    "LEARNING_RATE = 0.01\n",
    "\n",
    "INTERMEDIATE_SCORE = 100\n",
    "\n",
    "def epsilon(step):\n",
    "    \"\"\"\n",
    "    Epsilon for exploration/exploitation trade-off\n",
    "    \"\"\"\n",
    "    if step < INITIAL_EXPLORATION:\n",
    "        return 1\n",
    "    elif step < EXPLORATION_STEPS:\n",
    "        return INITIAL_EPSILON + (FINAL_EPSILON - INITIAL_EPSILON)/(EXPLORATION_STEPS-INITIAL_EXPLORATION) * (step-INITIAL_EXPLORATION)\n",
    "    else:\n",
    "        return FINAL_EPSILON\n",
    "    \n",
    "# Epsilon greedy algorithm for exploring state-space (movement only)\n",
    "def epsilon_greedy(game, Q, k, state):\n",
    "    \n",
    "    idx = game.listStates.state2idx(state)\n",
    "    a = np.argmax(Q[idx][:])\n",
    "    \n",
    "    if(np.random.rand()<=epsilon(k)):            # random action\n",
    "            la = [i for i in range(6)]\n",
    "            la.remove(a)\n",
    "            a = np.random.choice(la)\n",
    "    return a"
   ]
  },
  {
   "cell_type": "code",
   "execution_count": null,
   "metadata": {
    "scrolled": true
   },
   "outputs": [],
   "source": [
    "p = PLE(game, fps=1000, frame_skip=1, num_steps=1, force_fps=True, display_screen=True, reward_values = reward)\n",
    "p.init()\n",
    "\n",
    "# Q-learning\n",
    "Q = np.zeros((game.listStates.size, len(listAction))) # to track update frequencies\n",
    "count = np.zeros((game.listStates.size, len(listAction))) # to track update frequencies\n",
    "score = np.zeros(INTERMEDIATE_SCORE)\n",
    "\n",
    "kk =0\n",
    "for k in range(NUMBER_GAMES):\n",
    "    if((k+1)%INTERMEDIATE_SCORE==0):\n",
    "        print('Mean Score: ', np.mean(score))\n",
    "        kk = 0 \n",
    "    p.init()\n",
    "    p.reset_game()\n",
    "    game.updateFishMap(saveFishMap.copy())\n",
    "    reward = 0.0\n",
    "    \n",
    "    while(not p.game_over()):\n",
    "        state = game.getGameState()\n",
    "        x = game.listStates.state2idx(state)\n",
    "        a = epsilon_greedy(game, Q, k, state)\n",
    "        reward = p.act(listAction[int(a)])\n",
    "        state_new = game.getGameState()\n",
    "        x_new = game.listStates.state2idx(state_new)\n",
    "\n",
    "        Q[x][a] = Q[x][a] + ALPHA * (reward+GAMMA*np.max(Q[x_new][:])-Q[x][a])\n",
    "        count[x][a] += 1\n",
    "        \n",
    "    score[kk] = game.getScore()\n",
    "    kk += 1\n",
    "pygame.quit()"
   ]
  },
  {
   "cell_type": "code",
   "execution_count": null,
   "metadata": {},
   "outputs": [],
   "source": [
    "## View current policy\n",
    "p.init()\n",
    "p.reset_game()\n",
    "game.updateFishMap(saveFishMap.copy())\n",
    "\n",
    "images = []\n",
    "dt = 0\n",
    "while(not p.game_over()):\n",
    "    state = game.getGameState()\n",
    "    idx = game.listStates.state2idx(state)\n",
    "    a = np.argmax(Q[idx][:])\n",
    "    reward = p.act(listAction[int(a)])\n",
    "    \n",
    "    pic = './results/screenshot'+str(dt)+'.jpeg'\n",
    "    pygame.image.save(game.screen, pic)\n",
    "    images.append(imageio.imread(pic))\n",
    "\n",
    "    dt +=1\n",
    "    \n",
    "imageio.mimsave('./results/RL.gif', images)\n",
    "pygame.quit()"
   ]
  },
  {
   "cell_type": "code",
   "execution_count": null,
   "metadata": {},
   "outputs": [],
   "source": [
    "with open('./results/RL.gif','rb') as file:\n",
    "    display(Image(file.read()))"
   ]
  }
 ],
 "metadata": {
  "kernelspec": {
   "display_name": "Python 3",
   "language": "python",
   "name": "python3"
  },
  "language_info": {
   "codemirror_mode": {
    "name": "ipython",
    "version": 3
   },
   "file_extension": ".py",
   "mimetype": "text/x-python",
   "name": "python",
   "nbconvert_exporter": "python",
   "pygments_lexer": "ipython3",
   "version": "3.7.4"
  }
 },
 "nbformat": 4,
 "nbformat_minor": 2
}
