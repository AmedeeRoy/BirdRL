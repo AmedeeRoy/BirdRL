{
 "cells": [
  {
   "cell_type": "code",
   "execution_count": 1,
   "metadata": {},
   "outputs": [
    {
     "name": "stdout",
     "output_type": "stream",
     "text": [
      "pygame 1.9.6\n",
      "Hello from the pygame community. https://www.pygame.org/contribute.html\n",
      "couldn't import doomish\n",
      "Couldn't import doom\n"
     ]
    },
    {
     "name": "stderr",
     "output_type": "stream",
     "text": [
      "Using TensorFlow backend.\n"
     ]
    }
   ],
   "source": [
    "from rlbirdv2 import *\n",
    "from ple import PLE\n",
    "from IPython.display import Image\n",
    "import imageio\n",
    "import mdptoolbox\n",
    "from keras.models import Sequential, load_model\n",
    "from keras.layers import Conv2D, Flatten, Dense, Activation\n",
    "from keras.optimizers import Adam\n",
    "from keras import backend as kerasBackend\n",
    "from ple import PLE\n",
    "import pickle\n",
    "\n",
    "x = [i for i in range(3)]\n",
    "y = [i for i in range(3)]\n",
    "y.reverse()\n",
    "\n",
    "# List of coordinates for islands\n",
    "island = [(0, 0)]\n",
    "birdStart = (0, 0)\n",
    "\n",
    "TILESIZE = 40\n",
    "SCREEN_WIDTH = TILESIZE*(len(x)+3)\n",
    "SCREEN_HEIGHT = TILESIZE * len(y)\n",
    "\n",
    "reward = {'win' : 1,\n",
    "         'lose' : 0}\n",
    "\n",
    "# import specific Game -------------------------\n",
    "file = open(\"../RLv1/fish2\",'rb')\n",
    "fish = pickle.load(file)\n",
    "# ----------------------------------------------\n",
    "\n",
    "# run.py\n",
    "pygame.init()\n",
    "game = RLBird(width = SCREEN_WIDTH, height = SCREEN_HEIGHT, x = x, y = y,\\\n",
    "              init_bird_position = birdStart, island_position = island, \\\n",
    "              energyMax = 10, catchMax = 2, costMove = -1, costDive = -1, factorFishFly = 0.25,\\\n",
    "              reward = reward)\n",
    "game.init()\n",
    "game.updateFishMap(fish.copy())"
   ]
  },
  {
   "cell_type": "markdown",
   "metadata": {},
   "source": [
    "### Human Policy "
   ]
  },
  {
   "cell_type": "code",
   "execution_count": 2,
   "metadata": {},
   "outputs": [
    {
     "ename": "SystemExit",
     "evalue": "",
     "output_type": "error",
     "traceback": [
      "An exception has occurred, use %tb to see the full traceback.\n",
      "\u001b[0;31mSystemExit\u001b[0m\n"
     ]
    },
    {
     "name": "stderr",
     "output_type": "stream",
     "text": [
      "/home/amdroy/anaconda3/lib/python3.7/site-packages/IPython/core/interactiveshell.py:3334: UserWarning: To exit: use 'exit', 'quit', or Ctrl-D.\n",
      "  warn(\"To exit: use 'exit', 'quit', or Ctrl-D.\", stacklevel=1)\n"
     ]
    }
   ],
   "source": [
    "pygame.init()\n",
    "p = PLE(game, fps=100, frame_skip=1, num_steps=1, force_fps=True, display_screen=True, reward_values = reward)\n",
    "\n",
    "p.init()\n",
    "p.reset_game()\n",
    "game.updateFishMap(fish.copy())\n",
    "\n",
    "dt = 0\n",
    "while(not p.game_over()):\n",
    "        game.step(dt)\n",
    "        pygame.display.update()\n",
    "        dt += 1\n",
    "print(game.getScore())\n",
    "pygame.quit()"
   ]
  },
  {
   "cell_type": "code",
   "execution_count": 3,
   "metadata": {},
   "outputs": [
    {
     "data": {
      "text/plain": [
       "array([[0.        , 0.01552608, 0.30287186],\n",
       "       [0.1562188 , 0.25212845, 0.3765251 ],\n",
       "       [0.26855578, 0.52494901, 0.43451012]])"
      ]
     },
     "execution_count": 3,
     "metadata": {},
     "output_type": "execute_result"
    }
   ],
   "source": [
    "fish"
   ]
  },
  {
   "cell_type": "markdown",
   "metadata": {},
   "source": [
    "### Deep Q Learning"
   ]
  },
  {
   "cell_type": "code",
   "execution_count": 7,
   "metadata": {},
   "outputs": [],
   "source": [
    "def epsilon(step):\n",
    "    \"\"\"\n",
    "    Epsilon for exploration/exploitation trade-off\n",
    "    \"\"\"\n",
    "    if step < INITIAL_EXPLORATION:\n",
    "        return 1\n",
    "    elif step < EXPLORATION_STEPS:\n",
    "        return INITIAL_EPSILON + (FINAL_EPSILON - INITIAL_EPSILON)/(EXPLORATION_STEPS-INITIAL_EXPLORATION) * (step-INITIAL_EXPLORATION)\n",
    "    else:\n",
    "        return FINAL_EPSILON\n",
    "    \n",
    "def createDQN(game):\n",
    "    \"\"\"\n",
    "    Create deep Q network\n",
    "    \"\"\"\n",
    "    # Neural network\n",
    "    dqn = Sequential()\n",
    "    dqn.add(Dense(units = 10, input_dim = game.listBirdStates.all.shape[1] , activation='relu'))\n",
    "    dqn.add(Dense(units = 10, activation='relu'))\n",
    "    dqn.add(Dense(units = len(game.listAction) , activation='relu'))\n",
    "    dqn.add(Activation('linear'))\n",
    "    \n",
    "    dqn.compile(optimizer=Adam(lr=LEARNING_RATE), loss='mean_squared_error')\n",
    "    return dqn\n",
    "\n",
    "\n",
    "def epsilonGreedy(dqn, game, x, step):\n",
    "    \"\"\"\n",
    "    Epsilon-greedy action\n",
    "    \"\"\"  \n",
    "    if np.random.rand() < epsilon(step):\n",
    "        a = np.random.choice(len(game.listAction))\n",
    "    else:\n",
    "        a = np.argmax(dqn.predict(np.array([x])))\n",
    "    return a\n"
   ]
  },
  {
   "cell_type": "code",
   "execution_count": 8,
   "metadata": {},
   "outputs": [],
   "source": [
    "class MemoryBuffer:\n",
    "    \"\"\"\n",
    "    An experience replay buffer using numpy arrays\n",
    "    \"\"\"\n",
    "    def __init__(self, length):\n",
    "        self.size = 0\n",
    "        self.length = length\n",
    "        self.index = 0 \n",
    "        \n",
    "        self.states = np.zeros((length,1))\n",
    "        self.actions = np.zeros((length,1))\n",
    "        self.rewards = np.zeros((length,1))\n",
    "        self.states_new = np.zeros((length,1))\n",
    "        self.ds = np.zeros((length,1))\n",
    "    \n",
    "    def append(self, state, a, reward, state_new, d):\n",
    "        \n",
    "        self.states[self.index] = state\n",
    "        self.actions[self.index] = a\n",
    "        self.rewards[self.index] = reward\n",
    "        self.states_new[self.index] = state_new\n",
    "        self.ds[self.index] = d\n",
    "        \n",
    "        self.index = (self.index+1) % self.length\n",
    "        self.size = np.min([self.size+1,self.length])\n",
    "\n",
    "    def minibatch(self, size):\n",
    "        indices = np.random.choice(self.size, size=size, replace=False)\n",
    "\n",
    "        return self.states[indices], self.actions[indices], self.rewards[indices], self.states_new[indices], self.ds[indices]\n"
   ]
  },
  {
   "cell_type": "code",
   "execution_count": null,
   "metadata": {
    "scrolled": false
   },
   "outputs": [
    {
     "name": "stdout",
     "output_type": "stream",
     "text": [
      "Mean Score after  1000  Games :  0.026\n",
      "Mean Score after  2000  Games :  0.021\n",
      "Mean Score after  3000  Games :  0.023\n",
      "Mean Score after  4000  Games :  0.029\n",
      "Mean Score after  5000  Games :  0.026\n",
      "Mean Score after  6000  Games :  0.039\n",
      "Mean Score after  7000  Games :  0.022\n",
      "Mean Score after  8000  Games :  0.017\n",
      "Mean Score after  9000  Games :  0.019\n",
      "Mean Score after  10000  Games :  0.022\n",
      "Mean Score after  11000  Games :  0.039\n",
      "Mean Score after  12000  Games :  0.032\n",
      "Mean Score after  13000  Games :  0.019\n",
      "Mean Score after  14000  Games :  0.038\n",
      "Mean Score after  15000  Games :  0.032\n",
      "Mean Score after  16000  Games :  0.027\n",
      "Mean Score after  17000  Games :  0.025\n",
      "Mean Score after  18000  Games :  0.032\n",
      "Mean Score after  19000  Games :  0.019\n",
      "Mean Score after  20000  Games :  0.029\n",
      "Mean Score after  21000  Games :  0.023\n",
      "Mean Score after  22000  Games :  0.023\n",
      "Mean Score after  23000  Games :  0.022\n",
      "Mean Score after  24000  Games :  0.028\n"
     ]
    }
   ],
   "source": [
    "import timeit\n",
    "\n",
    "COMPUTE_NEW_POLICY = True\n",
    "\n",
    "# Epsilon\n",
    "INITIAL_EXPLORATION = 1000\n",
    "EXPLORATION_STEPS   = 1000000\n",
    "INITIAL_EPSILON     = 1\n",
    "FINAL_EPSILON       = 1e-2\n",
    "\n",
    "# Constants\n",
    "GAMMA        = 0.99\n",
    "ALPHA        = 0.01\n",
    "NUMBER_GAMES = 1000000\n",
    "INTERMEDIATE_SCORE = 1000\n",
    "\n",
    "# Epsilon\n",
    "LEARNING_RATE = 0.1\n",
    "\n",
    "# Weigh Transfer\n",
    "STEPS_BETWEEN_TRANSFER = 2500\n",
    "REPLAY_MEM_SIZE = 30000\n",
    "MINIBATCH_SIZE = 32\n",
    "\n",
    "# Try to load DQN, or create a new one\n",
    "if COMPUTE_NEW_POLICY:\n",
    "    dqnExploration = createDQN(game)\n",
    "    dqnTarget = dqnExploration\n",
    "    count = np.zeros((game.listBirdStates.size, len(game.listAction))) # to track update frequencies\n",
    "else :\n",
    "    dqnExploration = load_model('dqn.h5')\n",
    "    dqnTarget = dqnExploration\n",
    "    count = np.zeros((game.listBirdStates.size, len(game.listAction))) # to track update frequencies\n",
    "    \n",
    "\n",
    "score = np.zeros(INTERMEDIATE_SCORE)\n",
    "replayMemory = MemoryBuffer(REPLAY_MEM_SIZE)\n",
    "time_start = timeit.default_timer()\n",
    "\n",
    "kk = 0\n",
    "for k in range(NUMBER_GAMES):\n",
    "    if((k+1)%INTERMEDIATE_SCORE==0):\n",
    "        print('Mean Score after ', k+1, ' Games : ', np.mean(score))\n",
    "        kk = 0 \n",
    "        \n",
    "    p.init()\n",
    "    p.reset_game()\n",
    "    game.updateFishMap(fish.copy())\n",
    "    reward = 0.0\n",
    "    \n",
    "    while(not p.game_over()):\n",
    "        s = game.getBirdState()\n",
    "        x = game.listBirdStates.state2idx(np.array(s))    \n",
    "        a = epsilonGreedy(dqnExploration, game, s, k)\n",
    "        reward = p.act(game.dictAction[game.listAction[a]])\n",
    "        s_new = game.getBirdState()\n",
    "        x_new = game.listBirdStates.state2idx(np.array(s_new))  \n",
    "        \n",
    "        replayMemory.append(x, a, reward, x_new, p.game_over())\n",
    "        \n",
    "        # Train (minibatch)\n",
    "        if k > INITIAL_EXPLORATION and k > MINIBATCH_SIZE:\n",
    "            state, action, reward, state_new, d = replayMemory.minibatch(MINIBATCH_SIZE)\n",
    "            QY = dqnTarget.predict(game.listBirdStates.idx2state(state_new.astype(int)).reshape(MINIBATCH_SIZE,4))\n",
    "            QYmax = QY.max(1).reshape((MINIBATCH_SIZE, 1))\n",
    "            update = reward + GAMMA * (1-d) * QYmax\n",
    "            QX = dqnExploration.predict(game.listBirdStates.idx2state(state.astype(int)).reshape(MINIBATCH_SIZE,4))\n",
    "            QX[np.arange(MINIBATCH_SIZE), action.astype(int).ravel()] = update.ravel()\n",
    "            dqnExploration.train_on_batch(x = game.listBirdStates.idx2state(state.astype(int)).reshape(MINIBATCH_SIZE,4), y=QX)\n",
    "\n",
    "        # Update target dqn\n",
    "        if k % STEPS_BETWEEN_TRANSFER == 0:\n",
    "            dqnTarget = dqnExploration\n",
    "#             dqnExploration.save('dqn.h5')\n",
    "#             dqnTarget = load_model('dqn.h5')       \n",
    "        \n",
    "    score[kk] = game.getScore()\n",
    "    kk += 1\n",
    "pygame.quit()\n",
    "\n",
    "dqn.save('dqn.h5')\n",
    "time_end = timeit.default_timer()"
   ]
  },
  {
   "cell_type": "code",
   "execution_count": null,
   "metadata": {},
   "outputs": [],
   "source": [
    "update"
   ]
  },
  {
   "cell_type": "code",
   "execution_count": null,
   "metadata": {},
   "outputs": [],
   "source": [
    "## View current policy\n",
    "p.init()\n",
    "p.reset_game()\n",
    "game.updateFishMap(saveFishMap.copy())\n",
    "\n",
    "images = []\n",
    "dt = 0\n",
    "while(not p.game_over()):\n",
    "    state = game.getGameState()\n",
    "    idx = game.listStates.state2idx(state)\n",
    "    Q  = dqn.predict(np.array([state]))\n",
    "    a = np.argmax(Q)\n",
    "    reward = p.act(game.dictAction[game.listAction[a]])\n",
    "    \n",
    "    pic = './results/screenshot'+str(dt)+'.jpeg'\n",
    "    pygame.image.save(game.screen, pic)\n",
    "    images.append(imageio.imread(pic))\n",
    "\n",
    "    dt +=1\n",
    "    \n",
    "imageio.mimsave('./results/DeepRL.gif', images)\n",
    "pygame.quit()"
   ]
  },
  {
   "cell_type": "code",
   "execution_count": null,
   "metadata": {},
   "outputs": [],
   "source": [
    "with open('./results/DeepRL.gif','rb') as file:\n",
    "    display(Image(file.read()))"
   ]
  },
  {
   "cell_type": "code",
   "execution_count": null,
   "metadata": {},
   "outputs": [],
   "source": []
  }
 ],
 "metadata": {
  "kernelspec": {
   "display_name": "Python 3",
   "language": "python",
   "name": "python3"
  },
  "language_info": {
   "codemirror_mode": {
    "name": "ipython",
    "version": 3
   },
   "file_extension": ".py",
   "mimetype": "text/x-python",
   "name": "python",
   "nbconvert_exporter": "python",
   "pygments_lexer": "ipython3",
   "version": "3.7.4"
  }
 },
 "nbformat": 4,
 "nbformat_minor": 2
}
